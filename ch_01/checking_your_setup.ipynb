{
 "cells": [
  {
   "cell_type": "markdown",
   "metadata": {},
   "source": [
    "# Checking your setup\n",
    "Run through this notebook to make sure your environment is properly setup. Be sure to launch Jupyter from inside the virtual environment."
   ]
  },
  {
   "cell_type": "code",
   "execution_count": 1,
   "metadata": {},
   "outputs": [
    {
     "name": "stdout",
     "output_type": "stream",
     "text": [
      "Using Python in E:\\GitHub\\Hands-On-Data-Analysis-with-Pandas-2nd-edition\\book_env:\n",
      "\u001b[41m[FAIL]\u001b[0m Python version >= 3.7.1 and < 3.10.0 is required, but 3.13.2 (tags/v3.13.2:4f8bb39, Feb  4 2025, 15:23:48) [MSC v.1942 64 bit (AMD64)] is installed.\n",
      "\n",
      "\u001b[42m[ OK ]\u001b[0m graphviz\n",
      "\u001b[42m[ OK ]\u001b[0m imblearn\n",
      "\u001b[42m[ OK ]\u001b[0m ipympl\n",
      "[ OK ] jupyterlab\n",
      "[ OK ] matplotlib\n",
      "[ OK ] numpy\n",
      "[ OK ] pandas\n",
      "[ OK ] requests\n",
      "[ OK ] sklearn\n",
      "[ OK ] scipy\n",
      "[ OK ] seaborn\n",
      "[ OK ] sqlalchemy\n",
      "[ OK ] statsmodels\n",
      "[ OK ] wheel\n",
      "[ OK ] login_attempt_simulator\n",
      "[ OK ] ml_utils\n",
      "[ OK ] stock_analysis\n",
      "[ OK ] visual_aids\n"
     ]
    }
   ],
   "source": [
    "from check_environment import run_checks\n",
    "run_checks()"
   ]
  },
  {
   "cell_type": "markdown",
   "metadata": {},
   "source": [
    "*Note: Adapted from Andreas Mueller's [`check_env.ipynb` notebook](https://github.com/amueller/ml-workshop-1-of-4/blob/master/check_env.ipynb).*\n",
    "\n",
    "<hr>\n",
    "<div style=\"overflow: hidden; margin-bottom: 10px;\">\n",
    "    <div style=\"float: left;\">\n",
    "         <a href=\"./introduction_to_data_analysis.ipynb\">\n",
    "            <button>&#8592; Introduction to Data Analysis</button>\n",
    "        </a>\n",
    "    </div>\n",
    "    <div style=\"float: right;\">\n",
    "        <a href=\"./python_101.ipynb\">\n",
    "            <button>Python 101</button>\n",
    "        </a>\n",
    "        <a href=\"./exercises.ipynb\">\n",
    "            <button>Exercises &#8594;</button>\n",
    "        </a>\n",
    "    </div>\n",
    "</div>\n",
    "<hr>"
   ]
  },
  {
   "cell_type": "code",
   "execution_count": null,
   "metadata": {},
   "outputs": [],
   "source": []
  }
 ],
 "metadata": {
  "kernelspec": {
   "display_name": "Python 3 (ipykernel)",
   "language": "python",
   "name": "python3"
  },
  "language_info": {
   "codemirror_mode": {
    "name": "ipython",
    "version": 3
   },
   "file_extension": ".py",
   "mimetype": "text/x-python",
   "name": "python",
   "nbconvert_exporter": "python",
   "pygments_lexer": "ipython3",
   "version": "3.13.2"
  }
 },
 "nbformat": 4,
 "nbformat_minor": 4
}
